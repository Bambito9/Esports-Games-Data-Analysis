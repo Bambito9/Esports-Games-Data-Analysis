{
 "cells": [
  {
   "cell_type": "code",
   "execution_count": 5,
   "metadata": {},
   "outputs": [],
   "source": [
    "import pandas as pd\n",
    "import numpy as np\n",
    "import json\n",
    "from pandas_profiling import ProfileReport\n",
    "import matplotlib.pyplot as plt"
   ]
  },
  {
   "cell_type": "code",
   "execution_count": 2,
   "metadata": {},
   "outputs": [],
   "source": [
    "pd.set_option('display.max_columns', 60)"
   ]
  },
  {
   "attachments": {},
   "cell_type": "markdown",
   "metadata": {},
   "source": [
    "## Amateur Players Data Set"
   ]
  },
  {
   "cell_type": "code",
   "execution_count": 2,
   "metadata": {},
   "outputs": [
    {
     "data": {
      "text/html": [
       "<div>\n",
       "<style scoped>\n",
       "    .dataframe tbody tr th:only-of-type {\n",
       "        vertical-align: middle;\n",
       "    }\n",
       "\n",
       "    .dataframe tbody tr th {\n",
       "        vertical-align: top;\n",
       "    }\n",
       "\n",
       "    .dataframe thead th {\n",
       "        text-align: right;\n",
       "    }\n",
       "</style>\n",
       "<table border=\"1\" class=\"dataframe\">\n",
       "  <thead>\n",
       "    <tr style=\"text-align: right;\">\n",
       "      <th></th>\n",
       "      <th>gameId</th>\n",
       "      <th>team</th>\n",
       "      <th>summoner</th>\n",
       "      <th>region</th>\n",
       "      <th>champion</th>\n",
       "      <th>timestamp</th>\n",
       "      <th>coordinate_x</th>\n",
       "      <th>coordinate_y</th>\n",
       "      <th>level</th>\n",
       "      <th>minionsKilled</th>\n",
       "      <th>...</th>\n",
       "      <th>trueDamageTaken</th>\n",
       "      <th>victory</th>\n",
       "      <th>eventType</th>\n",
       "      <th>skillSlot</th>\n",
       "      <th>buildingType</th>\n",
       "      <th>lane</th>\n",
       "      <th>monster</th>\n",
       "      <th>itemName</th>\n",
       "      <th>role</th>\n",
       "      <th>rank</th>\n",
       "    </tr>\n",
       "  </thead>\n",
       "  <tbody>\n",
       "    <tr>\n",
       "      <th>0</th>\n",
       "      <td>EUW1_6274275803</td>\n",
       "      <td>Blue</td>\n",
       "      <td>anonymous 125</td>\n",
       "      <td>euw1</td>\n",
       "      <td>Twitch</td>\n",
       "      <td>0.000000</td>\n",
       "      <td>329.0</td>\n",
       "      <td>650.0</td>\n",
       "      <td>1.0</td>\n",
       "      <td>0.0</td>\n",
       "      <td>...</td>\n",
       "      <td>0.0</td>\n",
       "      <td>False</td>\n",
       "      <td>NaN</td>\n",
       "      <td>NaN</td>\n",
       "      <td>NaN</td>\n",
       "      <td>NaN</td>\n",
       "      <td>NaN</td>\n",
       "      <td>NaN</td>\n",
       "      <td>UTILITY</td>\n",
       "      <td>Platinum</td>\n",
       "    </tr>\n",
       "    <tr>\n",
       "      <th>1</th>\n",
       "      <td>EUW1_6274275803</td>\n",
       "      <td>Blue</td>\n",
       "      <td>anonymous 125</td>\n",
       "      <td>euw1</td>\n",
       "      <td>Twitch</td>\n",
       "      <td>1.000200</td>\n",
       "      <td>6569.0</td>\n",
       "      <td>11391.0</td>\n",
       "      <td>1.0</td>\n",
       "      <td>0.0</td>\n",
       "      <td>...</td>\n",
       "      <td>0.0</td>\n",
       "      <td>False</td>\n",
       "      <td>NaN</td>\n",
       "      <td>NaN</td>\n",
       "      <td>NaN</td>\n",
       "      <td>NaN</td>\n",
       "      <td>NaN</td>\n",
       "      <td>NaN</td>\n",
       "      <td>UTILITY</td>\n",
       "      <td>Platinum</td>\n",
       "    </tr>\n",
       "    <tr>\n",
       "      <th>2</th>\n",
       "      <td>EUW1_6274275803</td>\n",
       "      <td>Blue</td>\n",
       "      <td>anonymous 125</td>\n",
       "      <td>euw1</td>\n",
       "      <td>Twitch</td>\n",
       "      <td>0.495733</td>\n",
       "      <td>NaN</td>\n",
       "      <td>NaN</td>\n",
       "      <td>NaN</td>\n",
       "      <td>NaN</td>\n",
       "      <td>...</td>\n",
       "      <td>NaN</td>\n",
       "      <td>False</td>\n",
       "      <td>SkillLevelUp</td>\n",
       "      <td>1.0</td>\n",
       "      <td>NaN</td>\n",
       "      <td>NaN</td>\n",
       "      <td>NaN</td>\n",
       "      <td>NaN</td>\n",
       "      <td>UTILITY</td>\n",
       "      <td>Platinum</td>\n",
       "    </tr>\n",
       "    <tr>\n",
       "      <th>3</th>\n",
       "      <td>EUW1_6274275803</td>\n",
       "      <td>Blue</td>\n",
       "      <td>anonymous 125</td>\n",
       "      <td>euw1</td>\n",
       "      <td>Twitch</td>\n",
       "      <td>2.000517</td>\n",
       "      <td>4320.0</td>\n",
       "      <td>12059.0</td>\n",
       "      <td>1.0</td>\n",
       "      <td>0.0</td>\n",
       "      <td>...</td>\n",
       "      <td>0.0</td>\n",
       "      <td>False</td>\n",
       "      <td>NaN</td>\n",
       "      <td>NaN</td>\n",
       "      <td>NaN</td>\n",
       "      <td>NaN</td>\n",
       "      <td>NaN</td>\n",
       "      <td>NaN</td>\n",
       "      <td>UTILITY</td>\n",
       "      <td>Platinum</td>\n",
       "    </tr>\n",
       "    <tr>\n",
       "      <th>4</th>\n",
       "      <td>EUW1_6274275803</td>\n",
       "      <td>Blue</td>\n",
       "      <td>anonymous 125</td>\n",
       "      <td>euw1</td>\n",
       "      <td>Twitch</td>\n",
       "      <td>1.979017</td>\n",
       "      <td>4245.0</td>\n",
       "      <td>13217.0</td>\n",
       "      <td>NaN</td>\n",
       "      <td>NaN</td>\n",
       "      <td>...</td>\n",
       "      <td>NaN</td>\n",
       "      <td>False</td>\n",
       "      <td>Assist</td>\n",
       "      <td>NaN</td>\n",
       "      <td>NaN</td>\n",
       "      <td>NaN</td>\n",
       "      <td>NaN</td>\n",
       "      <td>NaN</td>\n",
       "      <td>UTILITY</td>\n",
       "      <td>Platinum</td>\n",
       "    </tr>\n",
       "    <tr>\n",
       "      <th>...</th>\n",
       "      <td>...</td>\n",
       "      <td>...</td>\n",
       "      <td>...</td>\n",
       "      <td>...</td>\n",
       "      <td>...</td>\n",
       "      <td>...</td>\n",
       "      <td>...</td>\n",
       "      <td>...</td>\n",
       "      <td>...</td>\n",
       "      <td>...</td>\n",
       "      <td>...</td>\n",
       "      <td>...</td>\n",
       "      <td>...</td>\n",
       "      <td>...</td>\n",
       "      <td>...</td>\n",
       "      <td>...</td>\n",
       "      <td>...</td>\n",
       "      <td>...</td>\n",
       "      <td>...</td>\n",
       "      <td>...</td>\n",
       "      <td>...</td>\n",
       "    </tr>\n",
       "    <tr>\n",
       "      <th>838676</th>\n",
       "      <td>EUW1_6283483863</td>\n",
       "      <td>Red</td>\n",
       "      <td>anonymous 56</td>\n",
       "      <td>euw1</td>\n",
       "      <td>Annie</td>\n",
       "      <td>17.139450</td>\n",
       "      <td>NaN</td>\n",
       "      <td>NaN</td>\n",
       "      <td>NaN</td>\n",
       "      <td>NaN</td>\n",
       "      <td>...</td>\n",
       "      <td>NaN</td>\n",
       "      <td>False</td>\n",
       "      <td>Item purchased</td>\n",
       "      <td>NaN</td>\n",
       "      <td>NaN</td>\n",
       "      <td>NaN</td>\n",
       "      <td>NaN</td>\n",
       "      <td>Kindlegem</td>\n",
       "      <td>UTILITY</td>\n",
       "      <td>Gold</td>\n",
       "    </tr>\n",
       "    <tr>\n",
       "      <th>838677</th>\n",
       "      <td>EUW1_6283483863</td>\n",
       "      <td>Red</td>\n",
       "      <td>anonymous 56</td>\n",
       "      <td>euw1</td>\n",
       "      <td>Annie</td>\n",
       "      <td>22.688683</td>\n",
       "      <td>NaN</td>\n",
       "      <td>NaN</td>\n",
       "      <td>NaN</td>\n",
       "      <td>NaN</td>\n",
       "      <td>...</td>\n",
       "      <td>NaN</td>\n",
       "      <td>False</td>\n",
       "      <td>Item purchased</td>\n",
       "      <td>NaN</td>\n",
       "      <td>NaN</td>\n",
       "      <td>NaN</td>\n",
       "      <td>NaN</td>\n",
       "      <td>Knight's Vow</td>\n",
       "      <td>UTILITY</td>\n",
       "      <td>Gold</td>\n",
       "    </tr>\n",
       "    <tr>\n",
       "      <th>838678</th>\n",
       "      <td>EUW1_6283483863</td>\n",
       "      <td>Red</td>\n",
       "      <td>anonymous 56</td>\n",
       "      <td>euw1</td>\n",
       "      <td>Annie</td>\n",
       "      <td>22.826867</td>\n",
       "      <td>NaN</td>\n",
       "      <td>NaN</td>\n",
       "      <td>NaN</td>\n",
       "      <td>NaN</td>\n",
       "      <td>...</td>\n",
       "      <td>NaN</td>\n",
       "      <td>False</td>\n",
       "      <td>Item purchased</td>\n",
       "      <td>NaN</td>\n",
       "      <td>NaN</td>\n",
       "      <td>NaN</td>\n",
       "      <td>NaN</td>\n",
       "      <td>Glacial Buckler</td>\n",
       "      <td>UTILITY</td>\n",
       "      <td>Gold</td>\n",
       "    </tr>\n",
       "    <tr>\n",
       "      <th>838679</th>\n",
       "      <td>EUW1_6283483863</td>\n",
       "      <td>Red</td>\n",
       "      <td>anonymous 56</td>\n",
       "      <td>euw1</td>\n",
       "      <td>Annie</td>\n",
       "      <td>25.901700</td>\n",
       "      <td>NaN</td>\n",
       "      <td>NaN</td>\n",
       "      <td>NaN</td>\n",
       "      <td>NaN</td>\n",
       "      <td>...</td>\n",
       "      <td>NaN</td>\n",
       "      <td>False</td>\n",
       "      <td>Item purchased</td>\n",
       "      <td>NaN</td>\n",
       "      <td>NaN</td>\n",
       "      <td>NaN</td>\n",
       "      <td>NaN</td>\n",
       "      <td>Kindlegem</td>\n",
       "      <td>UTILITY</td>\n",
       "      <td>Gold</td>\n",
       "    </tr>\n",
       "    <tr>\n",
       "      <th>838680</th>\n",
       "      <td>EUW1_6283483863</td>\n",
       "      <td>Red</td>\n",
       "      <td>anonymous 56</td>\n",
       "      <td>euw1</td>\n",
       "      <td>Annie</td>\n",
       "      <td>27.683317</td>\n",
       "      <td>NaN</td>\n",
       "      <td>NaN</td>\n",
       "      <td>NaN</td>\n",
       "      <td>NaN</td>\n",
       "      <td>...</td>\n",
       "      <td>NaN</td>\n",
       "      <td>False</td>\n",
       "      <td>Item purchased</td>\n",
       "      <td>NaN</td>\n",
       "      <td>NaN</td>\n",
       "      <td>NaN</td>\n",
       "      <td>NaN</td>\n",
       "      <td>Zeke's Convergence</td>\n",
       "      <td>UTILITY</td>\n",
       "      <td>Gold</td>\n",
       "    </tr>\n",
       "  </tbody>\n",
       "</table>\n",
       "<p>838681 rows × 56 columns</p>\n",
       "</div>"
      ],
      "text/plain": [
       "                 gameId  team       summoner region champion  timestamp  \\\n",
       "0       EUW1_6274275803  Blue  anonymous 125   euw1   Twitch   0.000000   \n",
       "1       EUW1_6274275803  Blue  anonymous 125   euw1   Twitch   1.000200   \n",
       "2       EUW1_6274275803  Blue  anonymous 125   euw1   Twitch   0.495733   \n",
       "3       EUW1_6274275803  Blue  anonymous 125   euw1   Twitch   2.000517   \n",
       "4       EUW1_6274275803  Blue  anonymous 125   euw1   Twitch   1.979017   \n",
       "...                 ...   ...            ...    ...      ...        ...   \n",
       "838676  EUW1_6283483863   Red   anonymous 56   euw1    Annie  17.139450   \n",
       "838677  EUW1_6283483863   Red   anonymous 56   euw1    Annie  22.688683   \n",
       "838678  EUW1_6283483863   Red   anonymous 56   euw1    Annie  22.826867   \n",
       "838679  EUW1_6283483863   Red   anonymous 56   euw1    Annie  25.901700   \n",
       "838680  EUW1_6283483863   Red   anonymous 56   euw1    Annie  27.683317   \n",
       "\n",
       "        coordinate_x  coordinate_y  level  minionsKilled  ...  \\\n",
       "0              329.0         650.0    1.0            0.0  ...   \n",
       "1             6569.0       11391.0    1.0            0.0  ...   \n",
       "2                NaN           NaN    NaN            NaN  ...   \n",
       "3             4320.0       12059.0    1.0            0.0  ...   \n",
       "4             4245.0       13217.0    NaN            NaN  ...   \n",
       "...              ...           ...    ...            ...  ...   \n",
       "838676           NaN           NaN    NaN            NaN  ...   \n",
       "838677           NaN           NaN    NaN            NaN  ...   \n",
       "838678           NaN           NaN    NaN            NaN  ...   \n",
       "838679           NaN           NaN    NaN            NaN  ...   \n",
       "838680           NaN           NaN    NaN            NaN  ...   \n",
       "\n",
       "        trueDamageTaken  victory       eventType  skillSlot  buildingType  \\\n",
       "0                   0.0    False             NaN        NaN           NaN   \n",
       "1                   0.0    False             NaN        NaN           NaN   \n",
       "2                   NaN    False    SkillLevelUp        1.0           NaN   \n",
       "3                   0.0    False             NaN        NaN           NaN   \n",
       "4                   NaN    False          Assist        NaN           NaN   \n",
       "...                 ...      ...             ...        ...           ...   \n",
       "838676              NaN    False  Item purchased        NaN           NaN   \n",
       "838677              NaN    False  Item purchased        NaN           NaN   \n",
       "838678              NaN    False  Item purchased        NaN           NaN   \n",
       "838679              NaN    False  Item purchased        NaN           NaN   \n",
       "838680              NaN    False  Item purchased        NaN           NaN   \n",
       "\n",
       "        lane  monster            itemName     role      rank  \n",
       "0        NaN      NaN                 NaN  UTILITY  Platinum  \n",
       "1        NaN      NaN                 NaN  UTILITY  Platinum  \n",
       "2        NaN      NaN                 NaN  UTILITY  Platinum  \n",
       "3        NaN      NaN                 NaN  UTILITY  Platinum  \n",
       "4        NaN      NaN                 NaN  UTILITY  Platinum  \n",
       "...      ...      ...                 ...      ...       ...  \n",
       "838676   NaN      NaN           Kindlegem  UTILITY      Gold  \n",
       "838677   NaN      NaN        Knight's Vow  UTILITY      Gold  \n",
       "838678   NaN      NaN     Glacial Buckler  UTILITY      Gold  \n",
       "838679   NaN      NaN           Kindlegem  UTILITY      Gold  \n",
       "838680   NaN      NaN  Zeke's Convergence  UTILITY      Gold  \n",
       "\n",
       "[838681 rows x 56 columns]"
      ]
     },
     "execution_count": 2,
     "metadata": {},
     "output_type": "execute_result"
    }
   ],
   "source": [
    "amateur_df = pd.read_csv(\"/home/bambito9/Esports-Data-Analysis/API Requests/League of Legends/Datasets/Amateur/FinalAmateurPlayersDataset.csv\", dtype = {'skillSlot': str, 'buildingType': str, 'lane': str, 'monster': str, \"itemName\": str})\n",
    "amateur_df"
   ]
  },
  {
   "cell_type": "code",
   "execution_count": 4,
   "metadata": {},
   "outputs": [
    {
     "name": "stdout",
     "output_type": "stream",
     "text": [
      "<class 'pandas.core.frame.DataFrame'>\n",
      "RangeIndex: 838681 entries, 0 to 838680\n",
      "Data columns (total 56 columns):\n",
      " #   Column                         Non-Null Count   Dtype  \n",
      "---  ------                         --------------   -----  \n",
      " 0   gameId                         838681 non-null  object \n",
      " 1   team                           838681 non-null  object \n",
      " 2   summoner                       838681 non-null  object \n",
      " 3   region                         838681 non-null  object \n",
      " 4   champion                       838681 non-null  object \n",
      " 5   timestamp                      838681 non-null  float64\n",
      " 6   coordinate_x                   501376 non-null  float64\n",
      " 7   coordinate_y                   501376 non-null  float64\n",
      " 8   level                          306966 non-null  float64\n",
      " 9   minionsKilled                  306966 non-null  float64\n",
      " 10  jungleMinionsKilled            306966 non-null  float64\n",
      " 11  currentGold                    306966 non-null  float64\n",
      " 12  goldPerSecond                  306966 non-null  float64\n",
      " 13  totalGold                      306966 non-null  float64\n",
      " 14  xp                             306966 non-null  float64\n",
      " 15  abilityPower                   306966 non-null  float64\n",
      " 16  armor                          306966 non-null  float64\n",
      " 17  armorPen                       306966 non-null  float64\n",
      " 18  armorPenPercent                306966 non-null  float64\n",
      " 19  attackDamage                   306966 non-null  float64\n",
      " 20  attackSpeed                    306966 non-null  float64\n",
      " 21  ccReduction                    306966 non-null  float64\n",
      " 22  health                         306966 non-null  float64\n",
      " 23  healthMax                      306966 non-null  float64\n",
      " 24  healthRegen                    306966 non-null  float64\n",
      " 25  lifesteal                      306966 non-null  float64\n",
      " 26  magicPen                       306966 non-null  float64\n",
      " 27  magicPenPercent                306966 non-null  float64\n",
      " 28  magicResist                    306966 non-null  float64\n",
      " 29  movementSpeed                  306966 non-null  float64\n",
      " 30  omnivamp                       306966 non-null  float64\n",
      " 31  power                          306966 non-null  float64\n",
      " 32  powerMax                       306966 non-null  float64\n",
      " 33  powerRegen                     306966 non-null  float64\n",
      " 34  spellVamp                      306966 non-null  float64\n",
      " 35  magicDamageDone                306966 non-null  float64\n",
      " 36  magicDamageDoneToChampions     306966 non-null  float64\n",
      " 37  magicDamageTaken               306966 non-null  float64\n",
      " 38  physicalDamageDone             306966 non-null  float64\n",
      " 39  physicalDamageDoneToChampions  306966 non-null  float64\n",
      " 40  physicalDamageTaken            306966 non-null  float64\n",
      " 41  totalDamageDone                306966 non-null  float64\n",
      " 42  totalDamageDoneToChampions     306966 non-null  float64\n",
      " 43  totalDamageTaken               306966 non-null  float64\n",
      " 44  trueDamageDone                 306966 non-null  float64\n",
      " 45  trueDamageDoneToChampions      306966 non-null  float64\n",
      " 46  trueDamageTaken                306966 non-null  float64\n",
      " 47  victory                        838681 non-null  bool   \n",
      " 48  eventType                      531715 non-null  object \n",
      " 49  skillSlot                      142183 non-null  float64\n",
      " 50  buildingType                   23717 non-null   object \n",
      " 51  lane                           23717 non-null   object \n",
      " 52  monster                        33719 non-null   object \n",
      " 53  itemName                       195122 non-null  object \n",
      " 54  role                           838681 non-null  object \n",
      " 55  rank                           838681 non-null  object \n",
      "dtypes: bool(1), float64(43), object(12)\n",
      "memory usage: 352.7+ MB\n"
     ]
    }
   ],
   "source": [
    "amateur_df.info()"
   ]
  },
  {
   "cell_type": "code",
   "execution_count": 5,
   "metadata": {},
   "outputs": [
    {
     "name": "stdout",
     "output_type": "stream",
     "text": [
      "The data set with amateur players contains 9617 matches.\n"
     ]
    }
   ],
   "source": [
    "print(\"The data set with amateur players contains {} matches.\".format(len(np.unique(amateur_df[\"gameId\"]))))"
   ]
  },
  {
   "cell_type": "code",
   "execution_count": 6,
   "metadata": {},
   "outputs": [
    {
     "name": "stdout",
     "output_type": "stream",
     "text": [
      "The data set with amateur players contains 167 players.\n"
     ]
    }
   ],
   "source": [
    "print(\"The data set with amateur players contains {} players.\".format(len(np.unique(amateur_df[\"summoner\"]))))"
   ]
  },
  {
   "attachments": {},
   "cell_type": "markdown",
   "metadata": {},
   "source": [
    "Matches per role:"
   ]
  },
  {
   "cell_type": "code",
   "execution_count": 7,
   "metadata": {},
   "outputs": [
    {
     "name": "stdout",
     "output_type": "stream",
     "text": [
      "TOP matches: 2054\n",
      "JUNGLE matches: 1870\n",
      "MIDDLE matches: 1788\n",
      "BOTTOM matches: 1881\n",
      "UTILITY matches: 2060\n"
     ]
    }
   ],
   "source": [
    "gameRoles = [\"TOP\", \"JUNGLE\",\"MIDDLE\", \"BOTTOM\", \"UTILITY\"]\n",
    "\n",
    "for role in gameRoles:\n",
    "    temporary_df = amateur_df[amateur_df[\"role\"] == role]\n",
    "    matches_per_role = len(np.unique(temporary_df[\"gameId\"]))\n",
    "    print(\"{} matches: {}\".format(role, matches_per_role))"
   ]
  },
  {
   "attachments": {},
   "cell_type": "markdown",
   "metadata": {},
   "source": [
    "Players per role:"
   ]
  },
  {
   "cell_type": "code",
   "execution_count": 8,
   "metadata": {},
   "outputs": [
    {
     "name": "stdout",
     "output_type": "stream",
     "text": [
      "TOP players: 35\n",
      "JUNGLE players: 34\n",
      "MIDDLE players: 34\n",
      "BOTTOM players: 32\n",
      "UTILITY players: 32\n"
     ]
    }
   ],
   "source": [
    "gameRoles = [\"TOP\", \"JUNGLE\",\"MIDDLE\", \"BOTTOM\", \"UTILITY\"]\n",
    "\n",
    "for role in gameRoles:\n",
    "    temporary_df = amateur_df[amateur_df[\"role\"] == role]\n",
    "    players_per_role = len(np.unique(temporary_df[\"summoner\"]))\n",
    "    print(\"{} players: {}\".format(role, players_per_role))"
   ]
  },
  {
   "cell_type": "code",
   "execution_count": null,
   "metadata": {},
   "outputs": [],
   "source": [
    "plt.figure(figsize=(14, 6))\n",
    "g = sns.histplot(x='role', data=amateur_df, hue=\"cluster\", color = \"royalblue\", multiple=\"dodge\", shrink=.9);\n",
    "plt.title('Game stages in the clusters')\n",
    "ax=g.axes\n",
    "plt.show()"
   ]
  },
  {
   "attachments": {},
   "cell_type": "markdown",
   "metadata": {},
   "source": [
    "Matches per division"
   ]
  },
  {
   "cell_type": "code",
   "execution_count": 27,
   "metadata": {},
   "outputs": [
    {
     "name": "stdout",
     "output_type": "stream",
     "text": [
      "Iron matches: 1121\n",
      "Bronze matches: 2399\n",
      "Silver matches: 2088\n",
      "Gold matches: 1670\n",
      "Platinum matches: 2340\n"
     ]
    }
   ],
   "source": [
    "ranks = [\"Iron\", \"Bronze\",\"Silver\", \"Gold\", \"Platinum\"]\n",
    "\n",
    "for rank in ranks:\n",
    "    temporary_df = amateur_df[amateur_df[\"rank\"] == rank]\n",
    "    matches_per_division = len(np.unique(temporary_df[\"gameId\"]))\n",
    "    print(\"{} matches: {}\".format(rank, matches_per_division))"
   ]
  },
  {
   "attachments": {},
   "cell_type": "markdown",
   "metadata": {},
   "source": [
    "Player per division:"
   ]
  },
  {
   "cell_type": "code",
   "execution_count": 10,
   "metadata": {},
   "outputs": [
    {
     "name": "stdout",
     "output_type": "stream",
     "text": [
      "Iron players: 20\n",
      "Bronze players: 39\n",
      "Silver players: 36\n",
      "Gold players: 33\n",
      "Platinum players: 39\n"
     ]
    }
   ],
   "source": [
    "ranks = [\"Iron\", \"Bronze\",\"Silver\", \"Gold\", \"Platinum\"]\n",
    "\n",
    "for rank in ranks:\n",
    "    temporary_df = amateur_df[amateur_df[\"rank\"] == rank]\n",
    "    players_per_division = len(np.unique(temporary_df[\"summoner\"]))\n",
    "    print(\"{} players: {}\".format(rank, players_per_division))"
   ]
  },
  {
   "cell_type": "code",
   "execution_count": 11,
   "metadata": {},
   "outputs": [
    {
     "data": {
      "application/vnd.jupyter.widget-view+json": {
       "model_id": "12157c6edad144aebcdd0f0b0392b3a6",
       "version_major": 2,
       "version_minor": 0
      },
      "text/plain": [
       "Summarize dataset:   0%|          | 0/5 [00:00<?, ?it/s]"
      ]
     },
     "metadata": {},
     "output_type": "display_data"
    },
    {
     "data": {
      "application/vnd.jupyter.widget-view+json": {
       "model_id": "16229a20c0a1443aa1dc10e67a8f1c0f",
       "version_major": 2,
       "version_minor": 0
      },
      "text/plain": [
       "Generate report structure:   0%|          | 0/1 [00:00<?, ?it/s]"
      ]
     },
     "metadata": {},
     "output_type": "display_data"
    },
    {
     "data": {
      "application/vnd.jupyter.widget-view+json": {
       "model_id": "3964a3699b0c44b68ef43bc8eed41164",
       "version_major": 2,
       "version_minor": 0
      },
      "text/plain": [
       "Render HTML:   0%|          | 0/1 [00:00<?, ?it/s]"
      ]
     },
     "metadata": {},
     "output_type": "display_data"
    },
    {
     "data": {
      "application/vnd.jupyter.widget-view+json": {
       "model_id": "d2ac9b1de4364e1ea38974f6ac45c48a",
       "version_major": 2,
       "version_minor": 0
      },
      "text/plain": [
       "Export report to file:   0%|          | 0/1 [00:00<?, ?it/s]"
      ]
     },
     "metadata": {},
     "output_type": "display_data"
    }
   ],
   "source": [
    "profile = ProfileReport(amateur_df, title=\"Amateur players Dataset Report\", explorative = True, minimal = True)\n",
    "#profile.to_notebook_iframe()\n",
    "profile.to_file(\"AmateurDatasetReport.html\")"
   ]
  },
  {
   "cell_type": "code",
   "execution_count": 26,
   "metadata": {},
   "outputs": [
    {
     "data": {
      "text/plain": [
       "0.0     295609\n",
       "3.0       3139\n",
       "39.0      2160\n",
       "6.0       1898\n",
       "13.0      1208\n",
       "9.0        778\n",
       "15.0       656\n",
       "5.0        534\n",
       "12.0       494\n",
       "10.0       249\n",
       "7.0        241\n",
       "Name: magicPenPercent, dtype: int64"
      ]
     },
     "execution_count": 26,
     "metadata": {},
     "output_type": "execute_result"
    }
   ],
   "source": [
    "amateur_df[\"magicPenPercent\"].value_counts()"
   ]
  },
  {
   "attachments": {},
   "cell_type": "markdown",
   "metadata": {},
   "source": [
    "Win rate"
   ]
  },
  {
   "cell_type": "code",
   "execution_count": 3,
   "metadata": {},
   "outputs": [
    {
     "name": "stdout",
     "output_type": "stream",
     "text": [
      "Win Rates:\n",
      " Red: 51.51098901098901 vs Blue: 49.744897959183675\n"
     ]
    }
   ],
   "source": [
    "blueSide_amateur_df = amateur_df[amateur_df[\"team\"] == \"Blue\"]\n",
    "gamesBlueSide = len(np.unique(blueSide_amateur_df[\"gameId\"]))\n",
    "redSide_amateur_df = amateur_df[amateur_df[\"team\"] == \"Red\"]\n",
    "gamesRedSide = len(np.unique(redSide_amateur_df[\"gameId\"]))\n",
    "\n",
    "redSideVictory_df = amateur_df[(amateur_df[\"team\"] == \"Red\") & (amateur_df[\"victory\"] == True)]\n",
    "winsRedSide = len(np.unique(redSideVictory_df[\"gameId\"]))\n",
    "\n",
    "blueSideVictory_df = amateur_df[(amateur_df[\"team\"] == \"Blue\") & (amateur_df[\"victory\"] == True)]\n",
    "winsBlueSide = len(np.unique(blueSideVictory_df[\"gameId\"]))\n",
    "\n",
    "wins_df = amateur_df[amateur_df[\"victory\"] == True]\n",
    "wins = len(np.unique(wins_df[\"gameId\"]))\n",
    "\n",
    "b = (winsBlueSide/ wins) * 100\n",
    "r = (winsRedSide/ wins) * 100\n",
    "\n",
    "print(\"Win Rates:\")\n",
    "print(\" Red: {} vs Blue: {}\".format(r, b))"
   ]
  },
  {
   "cell_type": "code",
   "execution_count": 9,
   "metadata": {},
   "outputs": [
    {
     "data": {
      "image/png": "[encoded data removed]",
      "text/plain": [
       "<Figure size 432x432 with 1 Axes>"
      ]
     },
     "metadata": {},
     "output_type": "display_data"
    }
   ],
   "source": [
    "fig, ax = plt.subplots(figsize=(6, 6))\n",
    " \n",
    "wedgeprops = {'width':0.3, 'edgecolor':'black', 'linewidth':3}\n",
    "\n",
    "_, texts, autotexts = ax.pie([r,b], \n",
    "       wedgeprops= wedgeprops, \n",
    "       startangle=90,\n",
    "       labels=[\"Red Team\", \"Blue Team\"],\n",
    "       autopct='%1.1f%%',\n",
    "       pctdistance=0.85,\n",
    "       colors=['crimson', 'royalblue'])\n",
    "\n",
    "for autotext in autotexts:\n",
    "    autotext.set_color('white')\n",
    "    autotext.set_weight(\"bold\")\n",
    "    autotext.set_fontsize(10)\n",
    "\n",
    "texts[0].set_fontsize(13)\n",
    "texts[1].set_fontsize(13)\n",
    "texts[0].set_fontweight(\"bold\")\n",
    "texts[1].set_fontweight(\"bold\")\n",
    "\n",
    "plt.title('Amateur Dataset Win Rate', fontsize=24, loc='center', fontweight=\"bold\")\n",
    "\n",
    "plt.show()"
   ]
  },
  {
   "attachments": {},
   "cell_type": "markdown",
   "metadata": {},
   "source": [
    "---\n",
    "\n",
    "### Professional Players Data Set"
   ]
  },
  {
   "cell_type": "code",
   "execution_count": 10,
   "metadata": {},
   "outputs": [
    {
     "name": "stderr",
     "output_type": "stream",
     "text": [
      "/tmp/ipykernel_507/878669709.py:1: DtypeWarning: Columns (50,51,52,53) have mixed types. Specify dtype option on import or set low_memory=False.\n",
      "  professional_df = pd.read_csv(\"../Datasets/Professional/FinalProfessionalPlayersDataset.csv\")\n"
     ]
    },
    {
     "data": {
      "text/html": [
       "<div>\n",
       "<style scoped>\n",
       "    .dataframe tbody tr th:only-of-type {\n",
       "        vertical-align: middle;\n",
       "    }\n",
       "\n",
       "    .dataframe tbody tr th {\n",
       "        vertical-align: top;\n",
       "    }\n",
       "\n",
       "    .dataframe thead th {\n",
       "        text-align: right;\n",
       "    }\n",
       "</style>\n",
       "<table border=\"1\" class=\"dataframe\">\n",
       "  <thead>\n",
       "    <tr style=\"text-align: right;\">\n",
       "      <th></th>\n",
       "      <th>gameId</th>\n",
       "      <th>team</th>\n",
       "      <th>summoner</th>\n",
       "      <th>region</th>\n",
       "      <th>champion</th>\n",
       "      <th>timestamp</th>\n",
       "      <th>coordinate_x</th>\n",
       "      <th>coordinate_y</th>\n",
       "      <th>level</th>\n",
       "      <th>minionsKilled</th>\n",
       "      <th>...</th>\n",
       "      <th>trueDamageDoneToChampions</th>\n",
       "      <th>trueDamageTaken</th>\n",
       "      <th>victory</th>\n",
       "      <th>eventType</th>\n",
       "      <th>skillSlot</th>\n",
       "      <th>buildingType</th>\n",
       "      <th>lane</th>\n",
       "      <th>monster</th>\n",
       "      <th>itemName</th>\n",
       "      <th>role</th>\n",
       "    </tr>\n",
       "  </thead>\n",
       "  <tbody>\n",
       "    <tr>\n",
       "      <th>0</th>\n",
       "      <td>EUW1_6272362521</td>\n",
       "      <td>Blue</td>\n",
       "      <td>anonymous 2</td>\n",
       "      <td>euw1</td>\n",
       "      <td>Akshan</td>\n",
       "      <td>0.000000</td>\n",
       "      <td>554.0</td>\n",
       "      <td>581.0</td>\n",
       "      <td>1.0</td>\n",
       "      <td>0.0</td>\n",
       "      <td>...</td>\n",
       "      <td>0.0</td>\n",
       "      <td>0.0</td>\n",
       "      <td>False</td>\n",
       "      <td>NaN</td>\n",
       "      <td>NaN</td>\n",
       "      <td>NaN</td>\n",
       "      <td>NaN</td>\n",
       "      <td>NaN</td>\n",
       "      <td>NaN</td>\n",
       "      <td>TOP</td>\n",
       "    </tr>\n",
       "    <tr>\n",
       "      <th>1</th>\n",
       "      <td>EUW1_6272362521</td>\n",
       "      <td>Blue</td>\n",
       "      <td>anonymous 2</td>\n",
       "      <td>euw1</td>\n",
       "      <td>Akshan</td>\n",
       "      <td>1.000300</td>\n",
       "      <td>3177.0</td>\n",
       "      <td>8848.0</td>\n",
       "      <td>1.0</td>\n",
       "      <td>0.0</td>\n",
       "      <td>...</td>\n",
       "      <td>0.0</td>\n",
       "      <td>0.0</td>\n",
       "      <td>False</td>\n",
       "      <td>NaN</td>\n",
       "      <td>NaN</td>\n",
       "      <td>NaN</td>\n",
       "      <td>NaN</td>\n",
       "      <td>NaN</td>\n",
       "      <td>NaN</td>\n",
       "      <td>TOP</td>\n",
       "    </tr>\n",
       "    <tr>\n",
       "      <th>2</th>\n",
       "      <td>EUW1_6272362521</td>\n",
       "      <td>Blue</td>\n",
       "      <td>anonymous 2</td>\n",
       "      <td>euw1</td>\n",
       "      <td>Akshan</td>\n",
       "      <td>2.000733</td>\n",
       "      <td>2665.0</td>\n",
       "      <td>13301.0</td>\n",
       "      <td>1.0</td>\n",
       "      <td>2.0</td>\n",
       "      <td>...</td>\n",
       "      <td>0.0</td>\n",
       "      <td>0.0</td>\n",
       "      <td>False</td>\n",
       "      <td>NaN</td>\n",
       "      <td>NaN</td>\n",
       "      <td>NaN</td>\n",
       "      <td>NaN</td>\n",
       "      <td>NaN</td>\n",
       "      <td>NaN</td>\n",
       "      <td>TOP</td>\n",
       "    </tr>\n",
       "    <tr>\n",
       "      <th>3</th>\n",
       "      <td>EUW1_6272362521</td>\n",
       "      <td>Blue</td>\n",
       "      <td>anonymous 2</td>\n",
       "      <td>euw1</td>\n",
       "      <td>Akshan</td>\n",
       "      <td>1.932467</td>\n",
       "      <td>NaN</td>\n",
       "      <td>NaN</td>\n",
       "      <td>NaN</td>\n",
       "      <td>NaN</td>\n",
       "      <td>...</td>\n",
       "      <td>NaN</td>\n",
       "      <td>NaN</td>\n",
       "      <td>False</td>\n",
       "      <td>SkillLevelUp</td>\n",
       "      <td>1.0</td>\n",
       "      <td>NaN</td>\n",
       "      <td>NaN</td>\n",
       "      <td>NaN</td>\n",
       "      <td>NaN</td>\n",
       "      <td>TOP</td>\n",
       "    </tr>\n",
       "    <tr>\n",
       "      <th>4</th>\n",
       "      <td>EUW1_6272362521</td>\n",
       "      <td>Blue</td>\n",
       "      <td>anonymous 2</td>\n",
       "      <td>euw1</td>\n",
       "      <td>Akshan</td>\n",
       "      <td>3.001000</td>\n",
       "      <td>3352.0</td>\n",
       "      <td>13461.0</td>\n",
       "      <td>3.0</td>\n",
       "      <td>14.0</td>\n",
       "      <td>...</td>\n",
       "      <td>0.0</td>\n",
       "      <td>0.0</td>\n",
       "      <td>False</td>\n",
       "      <td>NaN</td>\n",
       "      <td>NaN</td>\n",
       "      <td>NaN</td>\n",
       "      <td>NaN</td>\n",
       "      <td>NaN</td>\n",
       "      <td>NaN</td>\n",
       "      <td>TOP</td>\n",
       "    </tr>\n",
       "    <tr>\n",
       "      <th>...</th>\n",
       "      <td>...</td>\n",
       "      <td>...</td>\n",
       "      <td>...</td>\n",
       "      <td>...</td>\n",
       "      <td>...</td>\n",
       "      <td>...</td>\n",
       "      <td>...</td>\n",
       "      <td>...</td>\n",
       "      <td>...</td>\n",
       "      <td>...</td>\n",
       "      <td>...</td>\n",
       "      <td>...</td>\n",
       "      <td>...</td>\n",
       "      <td>...</td>\n",
       "      <td>...</td>\n",
       "      <td>...</td>\n",
       "      <td>...</td>\n",
       "      <td>...</td>\n",
       "      <td>...</td>\n",
       "      <td>...</td>\n",
       "      <td>...</td>\n",
       "    </tr>\n",
       "    <tr>\n",
       "      <th>392066</th>\n",
       "      <td>NA1_4573614609</td>\n",
       "      <td>Red</td>\n",
       "      <td>anonymous 97</td>\n",
       "      <td>na1</td>\n",
       "      <td>Kaisa</td>\n",
       "      <td>23.473867</td>\n",
       "      <td>NaN</td>\n",
       "      <td>NaN</td>\n",
       "      <td>NaN</td>\n",
       "      <td>NaN</td>\n",
       "      <td>...</td>\n",
       "      <td>NaN</td>\n",
       "      <td>NaN</td>\n",
       "      <td>False</td>\n",
       "      <td>Item purchased</td>\n",
       "      <td>NaN</td>\n",
       "      <td>NaN</td>\n",
       "      <td>NaN</td>\n",
       "      <td>NaN</td>\n",
       "      <td>Locket of the Iron Solari</td>\n",
       "      <td>BOTTOM</td>\n",
       "    </tr>\n",
       "    <tr>\n",
       "      <th>392067</th>\n",
       "      <td>NA1_4573614609</td>\n",
       "      <td>Red</td>\n",
       "      <td>anonymous 97</td>\n",
       "      <td>na1</td>\n",
       "      <td>Kaisa</td>\n",
       "      <td>23.488683</td>\n",
       "      <td>NaN</td>\n",
       "      <td>NaN</td>\n",
       "      <td>NaN</td>\n",
       "      <td>NaN</td>\n",
       "      <td>...</td>\n",
       "      <td>NaN</td>\n",
       "      <td>NaN</td>\n",
       "      <td>False</td>\n",
       "      <td>Item purchased</td>\n",
       "      <td>NaN</td>\n",
       "      <td>NaN</td>\n",
       "      <td>NaN</td>\n",
       "      <td>NaN</td>\n",
       "      <td>Control Ward</td>\n",
       "      <td>BOTTOM</td>\n",
       "    </tr>\n",
       "    <tr>\n",
       "      <th>392068</th>\n",
       "      <td>NA1_4573614609</td>\n",
       "      <td>Red</td>\n",
       "      <td>anonymous 97</td>\n",
       "      <td>na1</td>\n",
       "      <td>Kaisa</td>\n",
       "      <td>23.491417</td>\n",
       "      <td>NaN</td>\n",
       "      <td>NaN</td>\n",
       "      <td>NaN</td>\n",
       "      <td>NaN</td>\n",
       "      <td>...</td>\n",
       "      <td>NaN</td>\n",
       "      <td>NaN</td>\n",
       "      <td>False</td>\n",
       "      <td>Item purchased</td>\n",
       "      <td>NaN</td>\n",
       "      <td>NaN</td>\n",
       "      <td>NaN</td>\n",
       "      <td>NaN</td>\n",
       "      <td>Control Ward</td>\n",
       "      <td>BOTTOM</td>\n",
       "    </tr>\n",
       "    <tr>\n",
       "      <th>392069</th>\n",
       "      <td>NA1_4573614609</td>\n",
       "      <td>Red</td>\n",
       "      <td>anonymous 97</td>\n",
       "      <td>na1</td>\n",
       "      <td>Kaisa</td>\n",
       "      <td>26.337567</td>\n",
       "      <td>NaN</td>\n",
       "      <td>NaN</td>\n",
       "      <td>NaN</td>\n",
       "      <td>NaN</td>\n",
       "      <td>...</td>\n",
       "      <td>NaN</td>\n",
       "      <td>NaN</td>\n",
       "      <td>False</td>\n",
       "      <td>Item purchased</td>\n",
       "      <td>NaN</td>\n",
       "      <td>NaN</td>\n",
       "      <td>NaN</td>\n",
       "      <td>NaN</td>\n",
       "      <td>Null-Magic Mantle</td>\n",
       "      <td>BOTTOM</td>\n",
       "    </tr>\n",
       "    <tr>\n",
       "      <th>392070</th>\n",
       "      <td>NA1_4573614609</td>\n",
       "      <td>Red</td>\n",
       "      <td>anonymous 97</td>\n",
       "      <td>na1</td>\n",
       "      <td>Kaisa</td>\n",
       "      <td>27.677733</td>\n",
       "      <td>NaN</td>\n",
       "      <td>NaN</td>\n",
       "      <td>NaN</td>\n",
       "      <td>NaN</td>\n",
       "      <td>...</td>\n",
       "      <td>NaN</td>\n",
       "      <td>NaN</td>\n",
       "      <td>False</td>\n",
       "      <td>Item purchased</td>\n",
       "      <td>NaN</td>\n",
       "      <td>NaN</td>\n",
       "      <td>NaN</td>\n",
       "      <td>NaN</td>\n",
       "      <td>Negatron Cloak</td>\n",
       "      <td>BOTTOM</td>\n",
       "    </tr>\n",
       "  </tbody>\n",
       "</table>\n",
       "<p>392071 rows × 55 columns</p>\n",
       "</div>"
      ],
      "text/plain": [
       "                 gameId  team      summoner region champion  timestamp  \\\n",
       "0       EUW1_6272362521  Blue   anonymous 2   euw1   Akshan   0.000000   \n",
       "1       EUW1_6272362521  Blue   anonymous 2   euw1   Akshan   1.000300   \n",
       "2       EUW1_6272362521  Blue   anonymous 2   euw1   Akshan   2.000733   \n",
       "3       EUW1_6272362521  Blue   anonymous 2   euw1   Akshan   1.932467   \n",
       "4       EUW1_6272362521  Blue   anonymous 2   euw1   Akshan   3.001000   \n",
       "...                 ...   ...           ...    ...      ...        ...   \n",
       "392066   NA1_4573614609   Red  anonymous 97    na1    Kaisa  23.473867   \n",
       "392067   NA1_4573614609   Red  anonymous 97    na1    Kaisa  23.488683   \n",
       "392068   NA1_4573614609   Red  anonymous 97    na1    Kaisa  23.491417   \n",
       "392069   NA1_4573614609   Red  anonymous 97    na1    Kaisa  26.337567   \n",
       "392070   NA1_4573614609   Red  anonymous 97    na1    Kaisa  27.677733   \n",
       "\n",
       "        coordinate_x  coordinate_y  level  minionsKilled  ...  \\\n",
       "0              554.0         581.0    1.0            0.0  ...   \n",
       "1             3177.0        8848.0    1.0            0.0  ...   \n",
       "2             2665.0       13301.0    1.0            2.0  ...   \n",
       "3                NaN           NaN    NaN            NaN  ...   \n",
       "4             3352.0       13461.0    3.0           14.0  ...   \n",
       "...              ...           ...    ...            ...  ...   \n",
       "392066           NaN           NaN    NaN            NaN  ...   \n",
       "392067           NaN           NaN    NaN            NaN  ...   \n",
       "392068           NaN           NaN    NaN            NaN  ...   \n",
       "392069           NaN           NaN    NaN            NaN  ...   \n",
       "392070           NaN           NaN    NaN            NaN  ...   \n",
       "\n",
       "        trueDamageDoneToChampions  trueDamageTaken  victory       eventType  \\\n",
       "0                             0.0              0.0    False             NaN   \n",
       "1                             0.0              0.0    False             NaN   \n",
       "2                             0.0              0.0    False             NaN   \n",
       "3                             NaN              NaN    False    SkillLevelUp   \n",
       "4                             0.0              0.0    False             NaN   \n",
       "...                           ...              ...      ...             ...   \n",
       "392066                        NaN              NaN    False  Item purchased   \n",
       "392067                        NaN              NaN    False  Item purchased   \n",
       "392068                        NaN              NaN    False  Item purchased   \n",
       "392069                        NaN              NaN    False  Item purchased   \n",
       "392070                        NaN              NaN    False  Item purchased   \n",
       "\n",
       "        skillSlot  buildingType  lane  monster                   itemName  \\\n",
       "0             NaN           NaN   NaN      NaN                        NaN   \n",
       "1             NaN           NaN   NaN      NaN                        NaN   \n",
       "2             NaN           NaN   NaN      NaN                        NaN   \n",
       "3             1.0           NaN   NaN      NaN                        NaN   \n",
       "4             NaN           NaN   NaN      NaN                        NaN   \n",
       "...           ...           ...   ...      ...                        ...   \n",
       "392066        NaN           NaN   NaN      NaN  Locket of the Iron Solari   \n",
       "392067        NaN           NaN   NaN      NaN               Control Ward   \n",
       "392068        NaN           NaN   NaN      NaN               Control Ward   \n",
       "392069        NaN           NaN   NaN      NaN          Null-Magic Mantle   \n",
       "392070        NaN           NaN   NaN      NaN             Negatron Cloak   \n",
       "\n",
       "          role  \n",
       "0          TOP  \n",
       "1          TOP  \n",
       "2          TOP  \n",
       "3          TOP  \n",
       "4          TOP  \n",
       "...        ...  \n",
       "392066  BOTTOM  \n",
       "392067  BOTTOM  \n",
       "392068  BOTTOM  \n",
       "392069  BOTTOM  \n",
       "392070  BOTTOM  \n",
       "\n",
       "[392071 rows x 55 columns]"
      ]
     },
     "execution_count": 10,
     "metadata": {},
     "output_type": "execute_result"
    }
   ],
   "source": [
    "professional_df = pd.read_csv(\"../Datasets/Professional/FinalProfessionalPlayersDataset.csv\")\n",
    "professional_df"
   ]
  },
  {
   "cell_type": "code",
   "execution_count": 13,
   "metadata": {},
   "outputs": [
    {
     "name": "stdout",
     "output_type": "stream",
     "text": [
      "<class 'pandas.core.frame.DataFrame'>\n",
      "RangeIndex: 392071 entries, 0 to 392070\n",
      "Data columns (total 55 columns):\n",
      " #   Column                         Non-Null Count   Dtype  \n",
      "---  ------                         --------------   -----  \n",
      " 0   gameId                         392071 non-null  object \n",
      " 1   team                           392071 non-null  object \n",
      " 2   summoner                       392071 non-null  object \n",
      " 3   region                         392071 non-null  object \n",
      " 4   champion                       392071 non-null  object \n",
      " 5   timestamp                      392071 non-null  float64\n",
      " 6   coordinate_x                   217618 non-null  float64\n",
      " 7   coordinate_y                   217618 non-null  float64\n",
      " 8   level                          130903 non-null  float64\n",
      " 9   minionsKilled                  130903 non-null  float64\n",
      " 10  jungleMinionsKilled            130903 non-null  float64\n",
      " 11  currentGold                    130903 non-null  float64\n",
      " 12  goldPerSecond                  130903 non-null  float64\n",
      " 13  totalGold                      130903 non-null  float64\n",
      " 14  xp                             130903 non-null  float64\n",
      " 15  abilityPower                   130903 non-null  float64\n",
      " 16  armor                          130903 non-null  float64\n",
      " 17  armorPen                       130903 non-null  float64\n",
      " 18  armorPenPercent                130903 non-null  float64\n",
      " 19  attackDamage                   130903 non-null  float64\n",
      " 20  attackSpeed                    130903 non-null  float64\n",
      " 21  ccReduction                    130903 non-null  float64\n",
      " 22  health                         130903 non-null  float64\n",
      " 23  healthMax                      130903 non-null  float64\n",
      " 24  healthRegen                    130903 non-null  float64\n",
      " 25  lifesteal                      130903 non-null  float64\n",
      " 26  magicPen                       130903 non-null  float64\n",
      " 27  magicPenPercent                130903 non-null  float64\n",
      " 28  magicResist                    130903 non-null  float64\n",
      " 29  movementSpeed                  130903 non-null  float64\n",
      " 30  omnivamp                       130903 non-null  float64\n",
      " 31  power                          130903 non-null  float64\n",
      " 32  powerMax                       130903 non-null  float64\n",
      " 33  powerRegen                     130903 non-null  float64\n",
      " 34  spellVamp                      130903 non-null  float64\n",
      " 35  magicDamageDone                130903 non-null  float64\n",
      " 36  magicDamageDoneToChampions     130903 non-null  float64\n",
      " 37  magicDamageTaken               130903 non-null  float64\n",
      " 38  physicalDamageDone             130903 non-null  float64\n",
      " 39  physicalDamageDoneToChampions  130903 non-null  float64\n",
      " 40  physicalDamageTaken            130903 non-null  float64\n",
      " 41  totalDamageDone                130903 non-null  float64\n",
      " 42  totalDamageDoneToChampions     130903 non-null  float64\n",
      " 43  totalDamageTaken               130903 non-null  float64\n",
      " 44  trueDamageDone                 130903 non-null  float64\n",
      " 45  trueDamageDoneToChampions      130903 non-null  float64\n",
      " 46  trueDamageTaken                130903 non-null  float64\n",
      " 47  victory                        392071 non-null  bool   \n",
      " 48  eventType                      261168 non-null  object \n",
      " 49  skillSlot                      66156 non-null   float64\n",
      " 50  buildingType                   10775 non-null   object \n",
      " 51  lane                           10775 non-null   object \n",
      " 52  monster                        14583 non-null   object \n",
      " 53  itemName                       108297 non-null  object \n",
      " 54  role                           392071 non-null  object \n",
      "dtypes: bool(1), float64(43), object(11)\n",
      "memory usage: 161.9+ MB\n"
     ]
    }
   ],
   "source": [
    "professional_df.info()"
   ]
  },
  {
   "cell_type": "code",
   "execution_count": 14,
   "metadata": {},
   "outputs": [
    {
     "name": "stdout",
     "output_type": "stream",
     "text": [
      "The data set with professional players contains 3946 matches.\n"
     ]
    }
   ],
   "source": [
    "print(\"The data set with professional players contains {} matches.\".format(len(np.unique(professional_df[\"gameId\"]))))"
   ]
  },
  {
   "cell_type": "code",
   "execution_count": 15,
   "metadata": {},
   "outputs": [
    {
     "name": "stdout",
     "output_type": "stream",
     "text": [
      "The data set with professional players contains 100 players.\n"
     ]
    }
   ],
   "source": [
    "print(\"The data set with professional players contains {} players.\".format(len(np.unique(professional_df[\"summoner\"]))))"
   ]
  },
  {
   "attachments": {},
   "cell_type": "markdown",
   "metadata": {},
   "source": [
    "Matches per role:"
   ]
  },
  {
   "cell_type": "code",
   "execution_count": 16,
   "metadata": {},
   "outputs": [
    {
     "name": "stdout",
     "output_type": "stream",
     "text": [
      "TOP matches: 836\n",
      "JUNGLE matches: 847\n",
      "MIDDLE matches: 1120\n",
      "BOTTOM matches: 1080\n",
      "UTILITY matches: 853\n"
     ]
    }
   ],
   "source": [
    "gameRoles = [\"TOP\", \"JUNGLE\",\"MIDDLE\", \"BOTTOM\", \"UTILITY\"]\n",
    "\n",
    "for role in gameRoles:\n",
    "    temporary_df = professional_df[professional_df[\"role\"] == role]\n",
    "    matches_per_role = len(np.unique(temporary_df[\"gameId\"]))\n",
    "    print(\"{} matches: {}\".format(role, matches_per_role))"
   ]
  },
  {
   "attachments": {},
   "cell_type": "markdown",
   "metadata": {},
   "source": [
    "Players per role:"
   ]
  },
  {
   "cell_type": "code",
   "execution_count": 17,
   "metadata": {},
   "outputs": [
    {
     "name": "stdout",
     "output_type": "stream",
     "text": [
      "TOP players: 17\n",
      "JUNGLE players: 20\n",
      "MIDDLE players: 19\n",
      "BOTTOM players: 25\n",
      "UTILITY players: 19\n"
     ]
    }
   ],
   "source": [
    "gameRoles = [\"TOP\", \"JUNGLE\",\"MIDDLE\", \"BOTTOM\", \"UTILITY\"]\n",
    "\n",
    "for role in gameRoles:\n",
    "    temporary_df = professional_df[professional_df[\"role\"] == role]\n",
    "    players_per_role = len(np.unique(temporary_df[\"summoner\"]))\n",
    "    print(\"{} players: {}\".format(role, players_per_role))"
   ]
  },
  {
   "attachments": {},
   "cell_type": "markdown",
   "metadata": {},
   "source": [
    "Matches per region"
   ]
  },
  {
   "cell_type": "code",
   "execution_count": 18,
   "metadata": {},
   "outputs": [
    {
     "name": "stdout",
     "output_type": "stream",
     "text": [
      "euw1 matches: 1847\n",
      "na1 matches: 855\n",
      "kr matches: 1244\n"
     ]
    }
   ],
   "source": [
    "regions = [\"euw1\", \"na1\", \"kr\"]\n",
    "\n",
    "for region in regions:\n",
    "    temporary_df = professional_df[professional_df[\"region\"] == region]\n",
    "    matches_per_division = len(np.unique(temporary_df[\"gameId\"]))\n",
    "    print(\"{} matches: {}\".format(region, matches_per_division))"
   ]
  },
  {
   "attachments": {},
   "cell_type": "markdown",
   "metadata": {},
   "source": [
    "Player per region:"
   ]
  },
  {
   "cell_type": "code",
   "execution_count": 19,
   "metadata": {},
   "outputs": [
    {
     "name": "stdout",
     "output_type": "stream",
     "text": [
      "euw1 players: 38\n",
      "na1 players: 27\n",
      "kr players: 35\n"
     ]
    }
   ],
   "source": [
    "regions = [\"euw1\", \"na1\", \"kr\"]\n",
    "\n",
    "for region in regions:\n",
    "    temporary_df = professional_df[professional_df[\"region\"] == region]\n",
    "    players_per_division = len(np.unique(temporary_df[\"summoner\"]))\n",
    "    print(\"{} players: {}\".format(region, players_per_division))"
   ]
  },
  {
   "cell_type": "code",
   "execution_count": 20,
   "metadata": {},
   "outputs": [
    {
     "data": {
      "application/vnd.jupyter.widget-view+json": {
       "model_id": "f7ac78fb2f48456d9145bcb07bca175a",
       "version_major": 2,
       "version_minor": 0
      },
      "text/plain": [
       "Summarize dataset:   0%|          | 0/5 [00:00<?, ?it/s]"
      ]
     },
     "metadata": {},
     "output_type": "display_data"
    },
    {
     "data": {
      "application/vnd.jupyter.widget-view+json": {
       "model_id": "9f902447df924ec7b1ada8070e66e863",
       "version_major": 2,
       "version_minor": 0
      },
      "text/plain": [
       "Generate report structure:   0%|          | 0/1 [00:00<?, ?it/s]"
      ]
     },
     "metadata": {},
     "output_type": "display_data"
    },
    {
     "data": {
      "application/vnd.jupyter.widget-view+json": {
       "model_id": "9878f70aefe74ce09b52a59eb9959dfa",
       "version_major": 2,
       "version_minor": 0
      },
      "text/plain": [
       "Render HTML:   0%|          | 0/1 [00:00<?, ?it/s]"
      ]
     },
     "metadata": {},
     "output_type": "display_data"
    },
    {
     "data": {
      "application/vnd.jupyter.widget-view+json": {
       "model_id": "a3001cdd00664c26a3022c82c51641ea",
       "version_major": 2,
       "version_minor": 0
      },
      "text/plain": [
       "Export report to file:   0%|          | 0/1 [00:00<?, ?it/s]"
      ]
     },
     "metadata": {},
     "output_type": "display_data"
    }
   ],
   "source": [
    "profile = ProfileReport(professional_df, title=\"Professional Players Dataset Report\", explorative = True, minimal = True)\n",
    "#profile.to_notebook_iframe()\n",
    "profile.to_file(\"ProfessionalDatasetReport.html\")"
   ]
  },
  {
   "attachments": {},
   "cell_type": "markdown",
   "metadata": {},
   "source": [
    "Win rate"
   ]
  },
  {
   "cell_type": "code",
   "execution_count": 11,
   "metadata": {},
   "outputs": [
    {
     "name": "stdout",
     "output_type": "stream",
     "text": [
      "Win Rates:\n",
      " Red: 61.770966368667516 vs Blue: 41.08131119625372\n"
     ]
    }
   ],
   "source": [
    "blueSide_professional_df = professional_df[professional_df[\"team\"] == \"Blue\"]\n",
    "gamesBlueSide = len(np.unique(blueSide_professional_df[\"gameId\"]))\n",
    "redSide_professional_df = professional_df[professional_df[\"team\"] == \"Red\"]\n",
    "gamesRedSide = len(np.unique(redSide_professional_df[\"gameId\"]))\n",
    "\n",
    "redSideVictory_df = professional_df[(professional_df[\"team\"] == \"Red\") & (professional_df[\"victory\"] == True)]\n",
    "winsRedSide = len(np.unique(redSideVictory_df[\"gameId\"]))\n",
    "\n",
    "blueSideVictory_df = professional_df[(professional_df[\"team\"] == \"Blue\") & (professional_df[\"victory\"] == True)]\n",
    "winsBlueSide = len(np.unique(blueSideVictory_df[\"gameId\"]))\n",
    "\n",
    "wins_df = professional_df[professional_df[\"victory\"] == True]\n",
    "wins = len(np.unique(wins_df[\"gameId\"]))\n",
    "\n",
    "b = (winsBlueSide/ wins) * 100\n",
    "r = (winsRedSide/ wins) * 100\n",
    "\n",
    "print(\"Win Rates:\")\n",
    "print(\" Red: {} vs Blue: {}\".format(r, b))"
   ]
  },
  {
   "cell_type": "code",
   "execution_count": 12,
   "metadata": {},
   "outputs": [
    {
     "data": {
      "image/png": "[encoded data removed]",
      "text/plain": [
       "<Figure size 432x432 with 1 Axes>"
      ]
     },
     "metadata": {},
     "output_type": "display_data"
    }
   ],
   "source": [
    "fig, ax = plt.subplots(figsize=(6, 6))\n",
    " \n",
    "wedgeprops = {'width':0.3, 'edgecolor':'black', 'linewidth':3}\n",
    "\n",
    "_, texts, autotexts = ax.pie([r,b], \n",
    "       wedgeprops= wedgeprops, \n",
    "       startangle=90,\n",
    "       labels=[\"Red Team\", \"Blue Team\"],\n",
    "       autopct='%1.1f%%',\n",
    "       pctdistance=0.85,\n",
    "       colors=['crimson', 'royalblue'])\n",
    "\n",
    "for autotext in autotexts:\n",
    "    autotext.set_color('white')\n",
    "    autotext.set_weight(\"bold\")\n",
    "    autotext.set_fontsize(10)\n",
    "\n",
    "texts[0].set_fontsize(13)\n",
    "texts[1].set_fontsize(13)\n",
    "texts[0].set_fontweight(\"bold\")\n",
    "texts[1].set_fontweight(\"bold\")\n",
    "\n",
    "plt.title('Professional Dataset Win Rate', fontsize=24, loc='center', fontweight=\"bold\")\n",
    "\n",
    "plt.show()"
   ]
  }
 ],
 "metadata": {
  "kernelspec": {
   "display_name": "Python 3",
   "language": "python",
   "name": "python3"
  },
  "language_info": {
   "codemirror_mode": {
    "name": "ipython",
    "version": 3
   },
   "file_extension": ".py",
   "mimetype": "text/x-python",
   "name": "python",
   "nbconvert_exporter": "python",
   "pygments_lexer": "ipython3",
   "version": "3.8.10"
  },
  "orig_nbformat": 4
 },
 "nbformat": 4,
 "nbformat_minor": 2
}
